{
 "cells": [
  {
   "cell_type": "markdown",
   "id": "6c5b2c6c-1d22-48a4-8604-bca5e5a2ca32",
   "metadata": {
    "tags": []
   },
   "source": [
    "### Алгоритмы замены страниц, реализованные в этом проекте\n",
    "- OPT - Оптимальный алгоритм\n",
    "- LRU _(Least Recently Used)_ - Выталкивание дольше всего не использовавшейся страницы\n",
    "- FIFO _(First In First Out)_ - Выталкивание первой пришедшей страницы\n",
    "- NFU _(Not Frequently Used)_ - Выталкивание редко используемой страницы\n",
    "\n",
    "Алгоритмы реализованы в виде функций `opt`, `lru`, `fifo`, `nfu` в файле `algorithm.py`. \\\n",
    "Функции для перевода ФИО в последовательность `calculate_sequences` и слияния их `merge_sequences` находятся в файле `utils.py`"
   ]
  },
  {
   "cell_type": "code",
   "execution_count": 1,
   "id": "wanted-intervention",
   "metadata": {},
   "outputs": [],
   "source": [
    "import matplotlib.pyplot as plt\n",
    "import pandas as pd\n",
    "import algorithm as alg\n",
    "from page import Page, PageMode\n",
    "from utils import make_requests, declension\n",
    "\n",
    "student_list = [\n",
    "#   'Добрынин Антон Сергеевич',\n",
    "    'Дюкин Петр Радиевич',\n",
    "    'Ермаков Никита Евгеньевич',\n",
    "    'Ершова Ксения Глебовна',\n",
    "#   'Зернюков Никита Андреевич'\n",
    "]\n",
    "\n",
    "requests = make_requests(student_list)"
   ]
  },
  {
   "cell_type": "markdown",
   "id": "2c950060-5ca0-43db-9bae-a2a8a3fc35ad",
   "metadata": {},
   "source": [
    "### `test.py` файл\n",
    "Здесь проверяются функции:\n",
    "- `calculate_sequences`\n",
    "- `merge_sequences`\n",
    "- `make_requests` (композиция двух предыдущих)\n",
    "\n",
    "Данные для проверки взяты из `pdf` файла с заданиями для контрольной работы 2"
   ]
  },
  {
   "cell_type": "code",
   "execution_count": 2,
   "id": "818ee395-3f7f-4686-bf29-4c6acfa00ecf",
   "metadata": {},
   "outputs": [
    {
     "name": "stdout",
     "output_type": "stream",
     "text": [
      "Test calculate sequences: OK\n",
      "Test merge sequences: OK\n",
      "Test make sequence: OK\n"
     ]
    }
   ],
   "source": [
    "import test"
   ]
  },
  {
   "cell_type": "markdown",
   "id": "5e3d15e7-7d10-4269-9746-441b9cddf2a0",
   "metadata": {
    "tags": []
   },
   "source": [
    "### Выбор стратегии поиска\n",
    "Нужно изменить `Page.mode` на `PageMode.GLOBAL` или `PageMode.LOCAL`, от этого будет зависить только переопределенные операторы сравнения `__eq__` и хэширования `__hash__` (для `MemorySet` это необходимо)"
   ]
  },
  {
   "cell_type": "code",
   "execution_count": 3,
   "id": "d03234ad-84e0-478d-b2a0-5d49708b37dd",
   "metadata": {},
   "outputs": [],
   "source": [
    "Page.mode = PageMode.LOCAL"
   ]
  },
  {
   "cell_type": "markdown",
   "id": "cf8cb046-ee8d-4c0d-a899-9cfea3cc1ea0",
   "metadata": {},
   "source": [
    "### Вывод таблицы с помощью `TableLogger`\n",
    "> Для записи каждого запроса используется `TableLogger` из модуля `logger.py`, который по умолчанию\n",
    "> используется в декораторе `page_replace_decorator` в модуле `algorithm.py`.\n",
    "\n",
    "Для вывода таблицы можно вызвать метод `print` у экземпляра класса `TableLogger`, который возвращает вызов функций из модуля `algorithm.py`. \\\n",
    "Содержимое лучше просмотреть в текстовом редакторе."
   ]
  },
  {
   "cell_type": "code",
   "execution_count": 4,
   "id": "21656676-1ccb-4721-8958-0eb94d8a8f75",
   "metadata": {},
   "outputs": [
    {
     "name": "stdout",
     "output_type": "stream",
     "text": [
      "+--------+---+---+---+---+---+---+---+---+---+---+---+---+---+---+---+---+---+---+---+---+---+---+---+---+---+---+---+---+---+---+---+---+---+---+---+---+---+---+---+---+---+---+---+---+\n",
      "|sequence|1-1|2-2|3-2|1-2|2-1|3-4|1-3|2-4|3-3|1-1|2-3|3-1|1-2|2-3|3-1|1-2|2-4|3-3|1-2|2-4|3-4|1-1|2-2|3-3|1-1|2-1|3-4|1-2|2-3|3-1|1-2|2-4|3-2|1-3|2-3|3-4|1-2|2-3|3-3|1-1|2-4|3-3|2-1|3-1|\n",
      "+--------+---+---+---+---+---+---+---+---+---+---+---+---+---+---+---+---+---+---+---+---+---+---+---+---+---+---+---+---+---+---+---+---+---+---+---+---+---+---+---+---+---+---+---+---+\n",
      "|memory  |1-1|1-1|1-1|1-1|1-1|1-1|1-1|1-1|1-1|1-1|1-1|1-1|1-1|1-1|1-1|1-1|1-1|1-1|1-1|1-1|1-1|1-1|1-1|1-1|1-1|1-1|1-1|1-1|1-1|1-1|1-1|1-1|1-1|1-1|1-1|1-1|1-1|1-1|1-1|1-1|1-1|1-1|1-1|1-1|\n",
      "|        |   |2-2|2-2|2-2|2-2|2-2|2-2|2-2|2-2|2-2|2-2|2-2|2-2|2-2|2-2|2-2|2-2|2-2|2-2|2-2|2-2|2-2|2-2|2-2|2-2|2-2|2-2|2-2|2-2|2-2|2-2|2-2|2-2|2-2|2-2|2-2|2-2|2-2|2-2|2-2|2-2|2-2|2-2|2-2|\n",
      "|        |   |   |3-2|3-2|3-2|3-2|3-2|3-2|3-2|3-2|3-2|3-1|3-1|3-1|3-1|3-1|3-1|3-1|3-1|3-1|3-1|3-1|3-1|3-1|3-1|3-1|3-1|3-1|3-1|3-1|3-1|3-1|3-2|3-2|3-2|3-2|3-2|3-2|3-2|3-2|3-2|3-2|3-2|3-1|\n",
      "|        |   |   |   |1-2|1-2|1-2|1-2|1-2|1-2|1-2|1-2|1-2|1-2|1-2|1-2|1-2|1-2|1-2|1-2|1-2|1-2|1-2|1-2|1-2|1-2|1-2|1-2|1-2|1-2|1-2|1-2|1-2|1-2|1-2|1-2|1-2|1-2|1-2|1-2|1-2|1-2|1-2|1-2|1-2|\n",
      "|        |   |   |   |   |2-1|2-1|2-1|2-1|2-1|2-1|2-1|2-1|2-1|2-1|2-1|2-1|2-1|2-1|2-1|2-1|2-1|2-1|2-1|2-1|2-1|2-1|2-1|2-1|2-1|2-1|2-1|2-1|2-1|2-1|2-1|2-1|2-1|2-1|2-1|2-1|2-1|2-1|2-1|2-1|\n",
      "|        |   |   |   |   |   |3-4|3-4|3-4|3-4|3-4|3-4|3-4|3-4|3-4|3-4|3-4|3-4|3-4|3-4|3-4|3-4|3-4|3-4|3-4|3-4|3-4|3-4|3-4|3-4|3-4|3-4|3-4|3-4|3-4|3-4|3-4|3-4|3-4|3-4|3-4|3-4|3-4|3-4|3-4|\n",
      "|        |   |   |   |   |   |   |1-3|1-3|1-3|1-3|1-3|1-3|1-3|1-3|1-3|1-3|1-3|1-3|1-3|1-3|1-3|1-3|1-3|1-3|1-3|1-3|1-3|1-3|1-3|1-3|1-3|1-3|1-3|1-3|1-3|1-3|1-3|1-3|1-3|1-3|1-3|1-3|1-3|1-3|\n",
      "|        |   |   |   |   |   |   |   |2-4|2-4|2-4|2-4|2-4|2-4|2-4|2-4|2-4|2-4|2-4|2-4|2-4|2-4|2-4|2-4|2-4|2-4|2-4|2-4|2-4|2-4|2-4|2-4|2-4|2-4|2-4|2-4|2-4|2-4|2-4|2-4|2-4|2-4|2-4|2-4|2-4|\n",
      "|        |   |   |   |   |   |   |   |   |3-3|3-3|3-3|3-3|3-3|3-3|3-3|3-3|3-3|3-3|3-3|3-3|3-3|3-3|3-3|3-3|3-3|3-3|3-3|3-3|3-3|3-3|3-3|3-3|3-3|3-3|3-3|3-3|3-3|3-3|3-3|3-3|3-3|3-3|3-3|3-3|\n",
      "|        |   |   |   |   |   |   |   |   |   |   |2-3|2-3|2-3|2-3|2-3|2-3|2-3|2-3|2-3|2-3|2-3|2-3|2-3|2-3|2-3|2-3|2-3|2-3|2-3|2-3|2-3|2-3|2-3|2-3|2-3|2-3|2-3|2-3|2-3|2-3|2-3|2-3|2-3|2-3|\n",
      "+--------+---+---+---+---+---+---+---+---+---+---+---+---+---+---+---+---+---+---+---+---+---+---+---+---+---+---+---+---+---+---+---+---+---+---+---+---+---+---+---+---+---+---+---+---+\n",
      "|faults  |   |   |   |   |   |   |   |   |   |   |   |  F|   |   |   |   |   |   |   |   |   |   |   |   |   |   |   |   |   |   |   |   |  F|   |   |   |   |   |   |   |   |   |   |  F|\n",
      "+--------+---+---+---+---+---+---+---+---+---+---+---+---+---+---+---+---+---+---+---+---+---+---+---+---+---+---+---+---+---+---+---+---+---+---+---+---+---+---+---+---+---+---+---+---+\n"
     ]
    }
   ],
   "source": [
    "max_size = 10\n",
    "logger = alg.opt(requests, max_size)\n",
    "logger.print()"
   ]
  },
  {
   "cell_type": "markdown",
   "id": "d5cfe88e-746c-4601-8edc-a5649204c076",
   "metadata": {},
   "source": [
    "### Вывод таблицы с помощью библиотеки pandas\n",
    "Можно передать поле `rows` логгера в `pandas.DataFrame` и увидеть в более удобном формате. \\\n",
    "А также вывести количество промахов `faults`."
   ]
  },
  {
   "cell_type": "code",
   "execution_count": 5,
   "id": "9ca43bdf-d55c-4bb9-aeea-c66fedea8e9f",
   "metadata": {},
   "outputs": [
    {
     "data": {
      "text/html": [
       "<div>\n",
       "<style scoped>\n",
       "    .dataframe tbody tr th:only-of-type {\n",
       "        vertical-align: middle;\n",
       "    }\n",
       "\n",
       "    .dataframe tbody tr th {\n",
       "        vertical-align: top;\n",
       "    }\n",
       "\n",
       "    .dataframe thead th {\n",
       "        text-align: right;\n",
       "    }\n",
       "</style>\n",
       "<table border=\"1\" class=\"dataframe\">\n",
       "  <thead>\n",
       "    <tr style=\"text-align: right;\">\n",
       "      <th></th>\n",
       "      <th>0</th>\n",
       "      <th>1</th>\n",
       "      <th>2</th>\n",
       "      <th>3</th>\n",
       "      <th>4</th>\n",
       "      <th>5</th>\n",
       "      <th>6</th>\n",
       "      <th>7</th>\n",
       "      <th>8</th>\n",
       "      <th>9</th>\n",
       "      <th>...</th>\n",
       "      <th>35</th>\n",
       "      <th>36</th>\n",
       "      <th>37</th>\n",
       "      <th>38</th>\n",
       "      <th>39</th>\n",
       "      <th>40</th>\n",
       "      <th>41</th>\n",
       "      <th>42</th>\n",
       "      <th>43</th>\n",
       "      <th>44</th>\n",
       "    </tr>\n",
       "  </thead>\n",
       "  <tbody>\n",
       "    <tr>\n",
       "      <th>0</th>\n",
       "      <td>sequence</td>\n",
       "      <td>1-1</td>\n",
       "      <td>2-2</td>\n",
       "      <td>3-2</td>\n",
       "      <td>1-2</td>\n",
       "      <td>2-1</td>\n",
       "      <td>3-4</td>\n",
       "      <td>1-3</td>\n",
       "      <td>2-4</td>\n",
       "      <td>3-3</td>\n",
       "      <td>...</td>\n",
       "      <td>2-3</td>\n",
       "      <td>3-4</td>\n",
       "      <td>1-2</td>\n",
       "      <td>2-3</td>\n",
       "      <td>3-3</td>\n",
       "      <td>1-1</td>\n",
       "      <td>2-4</td>\n",
       "      <td>3-3</td>\n",
       "      <td>2-1</td>\n",
       "      <td>3-1</td>\n",
       "    </tr>\n",
       "    <tr>\n",
       "      <th>1</th>\n",
       "      <td>memory</td>\n",
       "      <td>1-1</td>\n",
       "      <td>1-1</td>\n",
       "      <td>1-1</td>\n",
       "      <td>1-1</td>\n",
       "      <td>1-1</td>\n",
       "      <td>1-1</td>\n",
       "      <td>1-1</td>\n",
       "      <td>1-1</td>\n",
       "      <td>1-1</td>\n",
       "      <td>...</td>\n",
       "      <td>1-1</td>\n",
       "      <td>1-1</td>\n",
       "      <td>1-1</td>\n",
       "      <td>1-1</td>\n",
       "      <td>1-1</td>\n",
       "      <td>1-1</td>\n",
       "      <td>1-1</td>\n",
       "      <td>1-1</td>\n",
       "      <td>1-1</td>\n",
       "      <td>1-1</td>\n",
       "    </tr>\n",
       "    <tr>\n",
       "      <th>2</th>\n",
       "      <td></td>\n",
       "      <td></td>\n",
       "      <td>2-2</td>\n",
       "      <td>2-2</td>\n",
       "      <td>2-2</td>\n",
       "      <td>2-2</td>\n",
       "      <td>2-2</td>\n",
       "      <td>2-2</td>\n",
       "      <td>2-2</td>\n",
       "      <td>2-2</td>\n",
       "      <td>...</td>\n",
       "      <td>2-2</td>\n",
       "      <td>2-2</td>\n",
       "      <td>2-2</td>\n",
       "      <td>2-2</td>\n",
       "      <td>2-2</td>\n",
       "      <td>2-2</td>\n",
       "      <td>2-2</td>\n",
       "      <td>2-2</td>\n",
       "      <td>2-2</td>\n",
       "      <td>2-2</td>\n",
       "    </tr>\n",
       "    <tr>\n",
       "      <th>3</th>\n",
       "      <td></td>\n",
       "      <td></td>\n",
       "      <td></td>\n",
       "      <td>3-2</td>\n",
       "      <td>3-2</td>\n",
       "      <td>3-2</td>\n",
       "      <td>3-2</td>\n",
       "      <td>3-2</td>\n",
       "      <td>3-2</td>\n",
       "      <td>3-2</td>\n",
       "      <td>...</td>\n",
       "      <td>3-2</td>\n",
       "      <td>3-2</td>\n",
       "      <td>3-2</td>\n",
       "      <td>3-2</td>\n",
       "      <td>3-2</td>\n",
       "      <td>3-2</td>\n",
       "      <td>3-2</td>\n",
       "      <td>3-2</td>\n",
       "      <td>3-2</td>\n",
       "      <td>3-1</td>\n",
       "    </tr>\n",
       "    <tr>\n",
       "      <th>4</th>\n",
       "      <td></td>\n",
       "      <td></td>\n",
       "      <td></td>\n",
       "      <td></td>\n",
       "      <td>1-2</td>\n",
       "      <td>1-2</td>\n",
       "      <td>1-2</td>\n",
       "      <td>1-2</td>\n",
       "      <td>1-2</td>\n",
       "      <td>1-2</td>\n",
       "      <td>...</td>\n",
       "      <td>1-2</td>\n",
       "      <td>1-2</td>\n",
       "      <td>1-2</td>\n",
       "      <td>1-2</td>\n",
       "      <td>1-2</td>\n",
       "      <td>1-2</td>\n",
       "      <td>1-2</td>\n",
       "      <td>1-2</td>\n",
       "      <td>1-2</td>\n",
       "      <td>1-2</td>\n",
       "    </tr>\n",
       "    <tr>\n",
       "      <th>5</th>\n",
       "      <td></td>\n",
       "      <td></td>\n",
       "      <td></td>\n",
       "      <td></td>\n",
       "      <td></td>\n",
       "      <td>2-1</td>\n",
       "      <td>2-1</td>\n",
       "      <td>2-1</td>\n",
       "      <td>2-1</td>\n",
       "      <td>2-1</td>\n",
       "      <td>...</td>\n",
       "      <td>2-1</td>\n",
       "      <td>2-1</td>\n",
       "      <td>2-1</td>\n",
       "      <td>2-1</td>\n",
       "      <td>2-1</td>\n",
       "      <td>2-1</td>\n",
       "      <td>2-1</td>\n",
       "      <td>2-1</td>\n",
       "      <td>2-1</td>\n",
       "      <td>2-1</td>\n",
       "    </tr>\n",
       "    <tr>\n",
       "      <th>6</th>\n",
       "      <td></td>\n",
       "      <td></td>\n",
       "      <td></td>\n",
       "      <td></td>\n",
       "      <td></td>\n",
       "      <td></td>\n",
       "      <td>3-4</td>\n",
       "      <td>3-4</td>\n",
       "      <td>3-4</td>\n",
       "      <td>3-4</td>\n",
       "      <td>...</td>\n",
       "      <td>3-4</td>\n",
       "      <td>3-4</td>\n",
       "      <td>3-4</td>\n",
       "      <td>3-4</td>\n",
       "      <td>3-4</td>\n",
       "      <td>3-4</td>\n",
       "      <td>3-4</td>\n",
       "      <td>3-4</td>\n",
       "      <td>3-4</td>\n",
       "      <td>3-4</td>\n",
       "    </tr>\n",
       "    <tr>\n",
       "      <th>7</th>\n",
       "      <td></td>\n",
       "      <td></td>\n",
       "      <td></td>\n",
       "      <td></td>\n",
       "      <td></td>\n",
       "      <td></td>\n",
       "      <td></td>\n",
       "      <td>1-3</td>\n",
       "      <td>1-3</td>\n",
       "      <td>1-3</td>\n",
       "      <td>...</td>\n",
       "      <td>1-3</td>\n",
       "      <td>1-3</td>\n",
       "      <td>1-3</td>\n",
       "      <td>1-3</td>\n",
       "      <td>1-3</td>\n",
       "      <td>1-3</td>\n",
       "      <td>1-3</td>\n",
       "      <td>1-3</td>\n",
       "      <td>1-3</td>\n",
       "      <td>1-3</td>\n",
       "    </tr>\n",
       "    <tr>\n",
       "      <th>8</th>\n",
       "      <td></td>\n",
       "      <td></td>\n",
       "      <td></td>\n",
       "      <td></td>\n",
       "      <td></td>\n",
       "      <td></td>\n",
       "      <td></td>\n",
       "      <td></td>\n",
       "      <td>2-4</td>\n",
       "      <td>2-4</td>\n",
       "      <td>...</td>\n",
       "      <td>2-4</td>\n",
       "      <td>2-4</td>\n",
       "      <td>2-4</td>\n",
       "      <td>2-4</td>\n",
       "      <td>2-4</td>\n",
       "      <td>2-4</td>\n",
       "      <td>2-4</td>\n",
       "      <td>2-4</td>\n",
       "      <td>2-4</td>\n",
       "      <td>2-4</td>\n",
       "    </tr>\n",
       "    <tr>\n",
       "      <th>9</th>\n",
       "      <td></td>\n",
       "      <td></td>\n",
       "      <td></td>\n",
       "      <td></td>\n",
       "      <td></td>\n",
       "      <td></td>\n",
       "      <td></td>\n",
       "      <td></td>\n",
       "      <td></td>\n",
       "      <td>3-3</td>\n",
       "      <td>...</td>\n",
       "      <td>3-3</td>\n",
       "      <td>3-3</td>\n",
       "      <td>3-3</td>\n",
       "      <td>3-3</td>\n",
       "      <td>3-3</td>\n",
       "      <td>3-3</td>\n",
       "      <td>3-3</td>\n",
       "      <td>3-3</td>\n",
       "      <td>3-3</td>\n",
       "      <td>3-3</td>\n",
       "    </tr>\n",
       "    <tr>\n",
       "      <th>10</th>\n",
       "      <td></td>\n",
       "      <td></td>\n",
       "      <td></td>\n",
       "      <td></td>\n",
       "      <td></td>\n",
       "      <td></td>\n",
       "      <td></td>\n",
       "      <td></td>\n",
       "      <td></td>\n",
       "      <td></td>\n",
       "      <td>...</td>\n",
       "      <td>2-3</td>\n",
       "      <td>2-3</td>\n",
       "      <td>2-3</td>\n",
       "      <td>2-3</td>\n",
       "      <td>2-3</td>\n",
       "      <td>2-3</td>\n",
       "      <td>2-3</td>\n",
       "      <td>2-3</td>\n",
       "      <td>2-3</td>\n",
       "      <td>2-3</td>\n",
       "    </tr>\n",
       "    <tr>\n",
       "      <th>11</th>\n",
       "      <td>faults</td>\n",
       "      <td></td>\n",
       "      <td></td>\n",
       "      <td></td>\n",
       "      <td></td>\n",
       "      <td></td>\n",
       "      <td></td>\n",
       "      <td></td>\n",
       "      <td></td>\n",
       "      <td></td>\n",
       "      <td>...</td>\n",
       "      <td></td>\n",
       "      <td></td>\n",
       "      <td></td>\n",
       "      <td></td>\n",
       "      <td></td>\n",
       "      <td></td>\n",
       "      <td></td>\n",
       "      <td></td>\n",
       "      <td></td>\n",
       "      <td>F</td>\n",
       "    </tr>\n",
       "  </tbody>\n",
       "</table>\n",
       "<p>12 rows × 45 columns</p>\n",
       "</div>"
      ],
      "text/plain": [
       "          0    1    2    3    4    5    6    7    8    9   ...   35   36   37  \\\n",
       "0   sequence  1-1  2-2  3-2  1-2  2-1  3-4  1-3  2-4  3-3  ...  2-3  3-4  1-2   \n",
       "1     memory  1-1  1-1  1-1  1-1  1-1  1-1  1-1  1-1  1-1  ...  1-1  1-1  1-1   \n",
       "2                  2-2  2-2  2-2  2-2  2-2  2-2  2-2  2-2  ...  2-2  2-2  2-2   \n",
       "3                       3-2  3-2  3-2  3-2  3-2  3-2  3-2  ...  3-2  3-2  3-2   \n",
       "4                            1-2  1-2  1-2  1-2  1-2  1-2  ...  1-2  1-2  1-2   \n",
       "5                                 2-1  2-1  2-1  2-1  2-1  ...  2-1  2-1  2-1   \n",
       "6                                      3-4  3-4  3-4  3-4  ...  3-4  3-4  3-4   \n",
       "7                                           1-3  1-3  1-3  ...  1-3  1-3  1-3   \n",
       "8                                                2-4  2-4  ...  2-4  2-4  2-4   \n",
       "9                                                     3-3  ...  3-3  3-3  3-3   \n",
       "10                                                         ...  2-3  2-3  2-3   \n",
       "11    faults                                               ...                  \n",
       "\n",
       "     38   39   40   41   42   43   44  \n",
       "0   2-3  3-3  1-1  2-4  3-3  2-1  3-1  \n",
       "1   1-1  1-1  1-1  1-1  1-1  1-1  1-1  \n",
       "2   2-2  2-2  2-2  2-2  2-2  2-2  2-2  \n",
       "3   3-2  3-2  3-2  3-2  3-2  3-2  3-1  \n",
       "4   1-2  1-2  1-2  1-2  1-2  1-2  1-2  \n",
       "5   2-1  2-1  2-1  2-1  2-1  2-1  2-1  \n",
       "6   3-4  3-4  3-4  3-4  3-4  3-4  3-4  \n",
       "7   1-3  1-3  1-3  1-3  1-3  1-3  1-3  \n",
       "8   2-4  2-4  2-4  2-4  2-4  2-4  2-4  \n",
       "9   3-3  3-3  3-3  3-3  3-3  3-3  3-3  \n",
       "10  2-3  2-3  2-3  2-3  2-3  2-3  2-3  \n",
       "11                                  F  \n",
       "\n",
       "[12 rows x 45 columns]"
      ]
     },
     "metadata": {},
     "output_type": "display_data"
    },
    {
     "name": "stdout",
     "output_type": "stream",
     "text": [
      "В результате - 3 промаха\n"
     ]
    }
   ],
   "source": [
    "df = pd.DataFrame(logger.rows)\n",
    "display(df)\n",
    "print('В результате -', logger.faults, 'промах' + declension(logger.faults, ['', 'а', 'ов']))"
   ]
  },
  {
   "cell_type": "markdown",
   "id": "564e0da7-0a98-4cac-bd00-3a96952da089",
   "metadata": {},
   "source": [
    "### Сеточный проход параметров с сохранением в `.csv` файлы\n",
    "Небольшая функция `grid_make_csv` и настраиваимые параметры `grid_params` для сохранения всех комбинаций таблиц.\n",
    "> Из машинного обучения, по образу и подобию [sklearn.model_selection.GridSearchCV](https://scikit-learn.org/stable/modules/generated/sklearn.model_selection.GridSearchCV.html)\n",
    "\n",
    "Все файлы сохранятся в папке `tables`."
   ]
  },
  {
   "cell_type": "code",
   "execution_count": 6,
   "id": "4b88208b-f099-4f21-a5f2-60a016813454",
   "metadata": {},
   "outputs": [
    {
     "name": "stdout",
     "output_type": "stream",
     "text": [
      "local opt 10 3 промаха\n",
      "local lru 10 4 промаха\n",
      "local fifo 10 5 промахов\n",
      "local nfu 10 3 промаха\n",
      "global opt 10 3 промаха\n",
      "global lru 10 4 промаха\n",
      "global fifo 10 6 промахов\n",
      "global nfu 10 3 промаха\n"
     ]
    }
   ],
   "source": [
    "def grid_make_csv(grid_params):\n",
    "    for mode in grid_params['mode']:\n",
    "        for alg_name in grid_params['alg_name']:\n",
    "            for max_size in grid_params['max_size']:\n",
    "                Page.mode = mode\n",
    "                mode_name = mode.value\n",
    "                logger = getattr(alg, alg_name)(requests, max_size)\n",
    "                df = pd.DataFrame(logger.rows)\n",
    "                df.to_csv(f'tables/table_{mode_name}_{alg_name}_{max_size}_log.csv')\n",
    "                print(mode_name, alg_name, max_size, logger.faults, 'промах' + declension(logger.faults, ['', 'а', 'ов']))\n",
    "                \n",
    "grid_params = {\n",
    "    'mode': [PageMode.LOCAL, PageMode.GLOBAL],\n",
    "    'alg_name': ['opt', 'lru', 'fifo', 'nfu'],\n",
    "    'max_size': [10]\n",
    "}\n",
    "\n",
    "grid_make_csv(grid_params)"
   ]
  },
  {
   "cell_type": "markdown",
   "id": "7c37379e-5b25-4ce0-a496-09e0c65cce0a",
   "metadata": {},
   "source": [
    "### Сравнение эффективности алгоритмов\n",
    "На графике отображается количество промохов с ростом размера памяти (в страницах)\n",
    "> Так же взято из машинного обучения, где часто приходится смотреть графики"
   ]
  },
  {
   "cell_type": "code",
   "execution_count": 8,
   "id": "reflected-grammar",
   "metadata": {},
   "outputs": [
    {
     "data": {
      "image/png": "[encoded data removed]",
      "text/plain": [
       "<Figure size 720x432 with 1 Axes>"
      ]
     },
     "metadata": {
      "needs_background": "light"
     },
     "output_type": "display_data"
    },
    {
     "data": {
      "image/png": "[encoded data removed]",
      "text/plain": [
       "<Figure size 432x288 with 1 Axes>"
      ]
     },
     "metadata": {
      "needs_background": "light"
     },
     "output_type": "display_data"
    },
    {
     "name": "stdout",
     "output_type": "stream",
     "text": [
      "Рейтинг алгоритмов по средним значениям:\n",
      "nfu - 20.09\n",
      "lru - 20.36\n",
      "opt - 21.36\n",
      "fifo - 21.36\n"
     ]
    },
    {
     "data": {
      "image/png": "[encoded data removed]",
      "text/plain": [
       "<Figure size 720x432 with 1 Axes>"
      ]
     },
     "metadata": {
      "needs_background": "light"
     },
     "output_type": "display_data"
    },
    {
     "data": {
      "image/png": "[encoded data removed]",
      "text/plain": [
       "<Figure size 432x288 with 1 Axes>"
      ]
     },
     "metadata": {
      "needs_background": "light"
     },
     "output_type": "display_data"
    },
    {
     "name": "stdout",
     "output_type": "stream",
     "text": [
      "Рейтинг алгоритмов по средним значениям:\n",
      "opt - 18.27\n",
      "lru - 22.00\n",
      "fifo - 22.36\n",
      "nfu - 23.55\n"
     ]
    }
   ],
   "source": [
    "def calc_faults(algorithm, max_size):\n",
    "    return algorithm(requests, max_size).faults\n",
    "\n",
    "local_xend = 12\n",
    "global_xend = 12\n",
    "alg_names = ['opt', 'lru', 'fifo', 'nfu']\n",
    "\n",
    "for mode, X in zip([PageMode.LOCAL, PageMode.GLOBAL],\n",
    "                   [range(1, local_xend), range(1, global_xend)]):\n",
    "    means = []\n",
    "    Page.mode = mode\n",
    "    plt.figure(figsize=(10, 6))\n",
    "    plt.grid()\n",
    "    plt.xticks(X)\n",
    "    plt.title(f'${mode.value.title()}\\ strategy\\ replacment$')\n",
    "    for alg_name in alg_names:\n",
    "        Y = [calc_faults(getattr(alg, alg_name), x) for x in X]\n",
    "        means.append((alg_name, sum(Y) / len(Y)))\n",
    "        plt.plot(X, Y, label=alg_name)\n",
    "\n",
    "    plt.xlabel('$page\\ counts$')\n",
    "    plt.ylabel('$page\\ faults$')\n",
    "\n",
    "    plt.legend(title='$Page\\ Replacement\\ Algorithms$')\n",
    "    plt.show()\n",
    "    \n",
    "    for i, t in enumerate(means):\n",
    "        plt.bar(i, t[1])\n",
    "        \n",
    "    plt.ylabel('$mean\\ page\\ faults\\ value$')\n",
    "    plt.title('$Scores\\ by\\ algorithms$')\n",
    "    plt.xticks(range(4), labels=alg_names)\n",
    "\n",
    "    plt.show()\n",
    "    \n",
    "    sorted_means = sorted(means, key=lambda x: x[1])\n",
    "    print('Рейтинг алгоритмов по средним значениям:')\n",
    "    for mean in sorted_means:\n",
    "        print(f'{mean[0]} - {mean[1]:.2f}')"
   ]
  },
  {
   "cell_type": "markdown",
   "id": "d7144b16-ccd1-4d6e-89cd-32b56f9f2e2b",
   "metadata": {},
   "source": [
    "### Выводы\n",
    "Как можно заметить, в обоях стратегиях поиска оптимальный алгоритм работает почти всегда лучше остальных. \\\n",
    "В локальном, при объеме памяти в 6 страниц, видимо сыграла роль сама последовательность запросов, но это лишь исключение. \\\n",
    "Алгоритм NFU показывает себя лучше, чем LRU хотя считается, что второй ближе к оптимальному."
   ]
  },
  {
   "cell_type": "markdown",
   "id": "bdc049fb-ad0d-401d-88f3-98457d77d86a",
   "metadata": {
    "tags": []
   },
   "source": [
    "### Используемые источники\n",
    "- https://intuit.ru/studies/professional_retraining/941/courses/31/lecture/986?page=2\n",
    "- https://en.wikipedia.org/wiki/Page_replacement_algorithm"
   ]
  }
 ],
 "metadata": {
  "kernelspec": {
   "display_name": "Python 3 (ipykernel)",
   "language": "python",
   "name": "python3"
  },
  "language_info": {
   "codemirror_mode": {
    "name": "ipython",
    "version": 3
   },
   "file_extension": ".py",
   "mimetype": "text/x-python",
   "name": "python",
   "nbconvert_exporter": "python",
   "pygments_lexer": "ipython3",
   "version": "3.8.10"
  }
 },
 "nbformat": 4,
 "nbformat_minor": 5
}
